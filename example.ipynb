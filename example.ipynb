{
 "cells": [
  {
   "cell_type": "code",
   "execution_count": 1,
   "metadata": {},
   "outputs": [
    {
     "ename": "NameError",
     "evalue": "name 'y_values' is not defined",
     "output_type": "error",
     "traceback": [
      "\u001b[0;31m---------------------------------------------------------------------------\u001b[0m",
      "\u001b[0;31mNameError\u001b[0m                                 Traceback (most recent call last)",
      "Cell \u001b[0;32mIn[1], line 6\u001b[0m\n\u001b[1;32m      3\u001b[0m \u001b[38;5;66;03m# Create the plot with the intersection points where g(x) exceeds 0\u001b[39;00m\n\u001b[1;32m      4\u001b[0m plt\u001b[38;5;241m.\u001b[39mfigure(figsize\u001b[38;5;241m=\u001b[39m(\u001b[38;5;241m12\u001b[39m, \u001b[38;5;241m8\u001b[39m))\n\u001b[0;32m----> 6\u001b[0m \u001b[38;5;28;01mfor\u001b[39;00m y \u001b[38;5;129;01min\u001b[39;00m \u001b[43my_values\u001b[49m:\n\u001b[1;32m      7\u001b[0m     g_y_values \u001b[38;5;241m=\u001b[39m g_y(x_values, y)\n\u001b[1;32m      8\u001b[0m     plt\u001b[38;5;241m.\u001b[39mplot(x_values, g_y_values, label\u001b[38;5;241m=\u001b[39m\u001b[38;5;124mf\u001b[39m\u001b[38;5;124m'\u001b[39m\u001b[38;5;124my=\u001b[39m\u001b[38;5;132;01m{\u001b[39;00my\u001b[38;5;132;01m}\u001b[39;00m\u001b[38;5;124m'\u001b[39m)\n",
      "\u001b[0;31mNameError\u001b[0m: name 'y_values' is not defined"
     ]
    },
    {
     "data": {
      "text/plain": [
       "<Figure size 1200x800 with 0 Axes>"
      ]
     },
     "metadata": {},
     "output_type": "display_data"
    }
   ],
   "source": [
    "import numpy as np\n",
    "import matplotlib.pyplot as plt\n",
    "# Create the plot with the intersection points where g(x) exceeds 0\n",
    "plt.figure(figsize=(12, 8))\n",
    "\n",
    "for y in y_values:\n",
    "    g_y_values = g_y(x_values, y)\n",
    "    plt.plot(x_values, g_y_values, label=f'y={y}')\n",
    "    \n",
    "    # Find the index where g_y_values first exceeds 0 for this y\n",
    "    idx = np.where(g_y_values > 0)[0]\n",
    "    if idx.size > 0:  # Check if there is such an index\n",
    "        first_idx = idx[0]\n",
    "        x_intersection = x_values[first_idx]\n",
    "        # Highlight the intersection point\n",
    "        plt.scatter(x_intersection, 0, zorder=5)\n",
    "        plt.text(x_intersection, -5, f'x ≈ {x_intersection:.2f}', horizontalalignment='center')\n",
    "\n",
    "plt.axhline(y=0, color='r', linestyle='--', label='g(x)=0')\n",
    "\n",
    "plt.title('Points where g(x) exceeds 0 for y=1.0, 1.05, 1.1')\n",
    "plt.xlabel('x')\n",
    "plt.ylabel('g(x)')\n",
    "plt.legend()\n",
    "plt.grid(True)\n",
    "plt.show()\n"
   ]
  },
  {
   "cell_type": "code",
   "execution_count": null,
   "metadata": {},
   "outputs": [],
   "source": [
    "# Correct approach to find the points where g(x) > 0 and x is also 5% greater than its original value\n",
    "plt.figure(figsize=(12, 8))\n",
    "\n",
    "for y in y_values:\n",
    "    g_y_values = g_y(x_values, y)\n",
    "    plt.plot(x_values, g_y_values, label=f'y={y}')\n",
    "    \n",
    "    # Find the indexes where g_y_values first exceeds 0 for this y\n",
    "    idx_exceeds_0 = np.where(g_y_values > 0)[0]\n",
    "    if idx_exceeds_0.size > 0:  # Check if there is such an index\n",
    "        for idx in idx_exceeds_0:\n",
    "            # Check if this x value is also at least 5% greater than when g(x) first exceeded 0\n",
    "            if x_values[idx] > 1.05 * x_values[idx_exceeds_0[0]]:\n",
    "                # Highlight the intersection point where both conditions are met\n",
    "                plt.scatter(x_values[idx], g_y_values[idx], zorder=5, color='orange', label='g(x)>0 & x increased by 5%')\n",
    "                plt.text(x_values[idx], g_y_values[idx] + 2, f'x ≈ {x_values[idx]:.2f}', horizontalalignment='center', color='orange')\n",
    "                break  # Only mark the first such occurrence\n",
    "\n",
    "plt.axhline(y=0, color='r', linestyle='--', label='g(x)=0')\n",
    "\n",
    "plt.title('Points where g(x) exceeds 0 and x is also increased by 5% for y=1.0, 1.05, 1.1')\n",
    "plt.xlabel('x')\n",
    "plt.ylabel('g(x)')\n",
    "plt.legend()\n",
    "plt.grid(True)\n",
    "plt.show()\n"
   ]
  },
  {
   "cell_type": "code",
   "execution_count": 26,
   "metadata": {},
   "outputs": [
    {
     "data": {
      "text/latex": [
       "$\\displaystyle 134.740253164557 < x \\wedge x < \\infty$"
      ],
      "text/plain": [
       "(134.740253164557 < x) & (x < oo)"
      ]
     },
     "execution_count": 26,
     "metadata": {},
     "output_type": "execute_result"
    }
   ],
   "source": [
    "from sympy import symbols, solve\n",
    "\n",
    "# Define the symbol\n",
    "x = symbols('x')\n",
    "\n",
    "# Define the function g(x)\n",
    "g = (x - 5.12) * 1.05 * 0.99 - x\n",
    "\n",
    "# Solve g(x) > 0\n",
    "solution = solve(g > 0, x)\n",
    "solution\n"
   ]
  }
 ],
 "metadata": {
  "kernelspec": {
   "display_name": "Python 3",
   "language": "python",
   "name": "python3"
  },
  "language_info": {
   "codemirror_mode": {
    "name": "ipython",
    "version": 3
   },
   "file_extension": ".py",
   "mimetype": "text/x-python",
   "name": "python",
   "nbconvert_exporter": "python",
   "pygments_lexer": "ipython3",
   "version": "3.11.2"
  }
 },
 "nbformat": 4,
 "nbformat_minor": 2
}
