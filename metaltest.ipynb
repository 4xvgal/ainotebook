{
 "cells": [
  {
   "cell_type": "code",
   "execution_count": 4,
   "metadata": {},
   "outputs": [
    {
     "name": "stdout",
     "output_type": "stream",
     "text": [
      "Train on 60000 samples\n",
      "Epoch 1/5\n"
     ]
    },
    {
     "name": "stderr",
     "output_type": "stream",
     "text": [
      "2024-04-03 16:13:09.371595: I tensorflow/core/common_runtime/pluggable_device/pluggable_device_factory.cc:303] Could not identify NUMA node of platform GPU ID 0, defaulting to 0. Your kernel may not have been built with NUMA support.\n",
      "2024-04-03 16:13:09.371613: I tensorflow/core/common_runtime/pluggable_device/pluggable_device_factory.cc:269] Created TensorFlow device (/job:localhost/replica:0/task:0/device:GPU:0 with 0 MB memory) -> physical PluggableDevice (device: 0, name: METAL, pci bus id: <undefined>)\n",
      "2024-04-03 16:13:09.377952: I tensorflow/compiler/mlir/mlir_graph_optimization_pass.cc:375] MLIR V1 optimization pass is not enabled\n",
      "2024-04-03 16:13:09.396747: I tensorflow/core/grappler/optimizers/custom_graph_optimizer_registry.cc:114] Plugin optimizer for device_type GPU is enabled.\n",
      "2024-04-03 16:13:09.441120: W tensorflow/c/c_api.cc:304] Operation '{name:'training/Adam/dense_2/bias/v/Assign' id:320 op device:{requested: '', assigned: ''} def:{{{node training/Adam/dense_2/bias/v/Assign}} = AssignVariableOp[_has_manual_control_dependencies=true, dtype=DT_FLOAT, validate_shape=false](training/Adam/dense_2/bias/v, training/Adam/dense_2/bias/v/Initializer/zeros)}}' was changed by setting attribute after it was run by a session. This mutation will have no effect, and will trigger an error in the future. Either don't modify nodes after running them or create a new session.\n",
      "2024-04-03 16:13:09.450033: I tensorflow/core/grappler/optimizers/custom_graph_optimizer_registry.cc:114] Plugin optimizer for device_type GPU is enabled.\n",
      "2024-04-03 16:13:09.475900: I tensorflow/core/grappler/optimizers/custom_graph_optimizer_registry.cc:114] Plugin optimizer for device_type GPU is enabled.\n",
      "2024-04-03 16:13:09.486429: I tensorflow/core/grappler/optimizers/custom_graph_optimizer_registry.cc:114] Plugin optimizer for device_type GPU is enabled.\n"
     ]
    },
    {
     "name": "stdout",
     "output_type": "stream",
     "text": [
      "60000/60000 [==============================] - 11s 182us/sample - loss: 10.5645 - accuracy: 0.1534\n",
      "Epoch 2/5\n",
      "60000/60000 [==============================] - 11s 176us/sample - loss: 22.5563 - accuracy: 0.1599\n",
      "Epoch 3/5\n",
      "60000/60000 [==============================] - 10s 165us/sample - loss: 23.8145 - accuracy: 0.1700\n",
      "Epoch 4/5\n",
      "60000/60000 [==============================] - 10s 162us/sample - loss: 21.9602 - accuracy: 0.1811\n",
      "Epoch 5/5\n",
      "60000/60000 [==============================] - 10s 162us/sample - loss: 19.0549 - accuracy: 0.1909\n"
     ]
    },
    {
     "name": "stderr",
     "output_type": "stream",
     "text": [
      "/Users/mac/miniforge3/envs/tenv2/lib/python3.8/site-packages/keras/src/engine/training_v1.py:2335: UserWarning: `Model.state_updates` will be removed in a future version. This property should not be used in TensorFlow 2.0, as `updates` are applied automatically.\n",
      "  updates = self.state_updates\n",
      "2024-04-03 16:14:00.284573: W tensorflow/c/c_api.cc:304] Operation '{name:'loss/mul' id:205 op device:{requested: '', assigned: ''} def:{{{node loss/mul}} = Mul[T=DT_FLOAT, _has_manual_control_dependencies=true](loss/mul/x, loss/dense_3_loss/value)}}' was changed by setting attribute after it was run by a session. This mutation will have no effect, and will trigger an error in the future. Either don't modify nodes after running them or create a new session.\n",
      "2024-04-03 16:14:00.294835: I tensorflow/core/grappler/optimizers/custom_graph_optimizer_registry.cc:114] Plugin optimizer for device_type GPU is enabled.\n"
     ]
    },
    {
     "data": {
      "text/plain": [
       "[1.2225980107142171, 0.2509]"
      ]
     },
     "execution_count": 4,
     "metadata": {},
     "output_type": "execute_result"
    }
   ],
   "source": [
    "import tensorflow as tf\n",
    "\n",
    "mnist = tf.keras.datasets.mnist\n",
    "\n",
    "(x_train, y_train), (x_test, y_test) = mnist.load_data()\n",
    "x_train, x_test = x_train / 255.0, x_test / 255.0\n",
    "\n",
    "model = tf.keras.models.Sequential([\n",
    "  tf.keras.layers.Flatten(input_shape=(28, 28)),\n",
    "  tf.keras.layers.Dense(32, activation='relu'),\n",
    "  tf.keras.layers.Dropout(0.2),\n",
    "  tf.keras.layers.Dense(3, activation='softmax')\n",
    "])\n",
    "\n",
    "model.compile(optimizer='adam',\n",
    "              loss='sparse_categorical_crossentropy',\n",
    "              metrics=['accuracy'])\n",
    "\n",
    "model.fit(x_train, y_train, epochs=5)\n",
    "\n",
    "model.evaluate(x_test,  y_test, verbose=2)"
   ]
  },
  {
   "cell_type": "code",
   "execution_count": 5,
   "metadata": {},
   "outputs": [
    {
     "name": "stdout",
     "output_type": "stream",
     "text": [
      "Num GPUs Available:  1\n"
     ]
    }
   ],
   "source": [
    "import tensorflow as tf\n",
    "print(\"Num GPUs Available: \", len(tf.config.experimental.list_physical_devices('GPU')))"
   ]
  },
  {
   "cell_type": "code",
   "execution_count": 7,
   "metadata": {},
   "outputs": [
    {
     "name": "stdout",
     "output_type": "stream",
     "text": [
      "Downloading data from https://storage.googleapis.com/tensorflow/tf-keras-datasets/train-labels-idx1-ubyte.gz\n",
      "29515/29515 [==============================] - 0s 1us/step\n",
      "Downloading data from https://storage.googleapis.com/tensorflow/tf-keras-datasets/train-images-idx3-ubyte.gz\n",
      "26421880/26421880 [==============================] - 4s 0us/step\n",
      "Downloading data from https://storage.googleapis.com/tensorflow/tf-keras-datasets/t10k-labels-idx1-ubyte.gz\n",
      "5148/5148 [==============================] - 0s 0us/step\n",
      "Downloading data from https://storage.googleapis.com/tensorflow/tf-keras-datasets/t10k-images-idx3-ubyte.gz\n",
      "4422102/4422102 [==============================] - 1s 0us/step\n",
      "Train on 60000 samples\n",
      "Epoch 1/10\n"
     ]
    },
    {
     "name": "stderr",
     "output_type": "stream",
     "text": [
      "2024-04-03 16:16:24.835524: I tensorflow/core/grappler/optimizers/custom_graph_optimizer_registry.cc:114] Plugin optimizer for device_type GPU is enabled.\n",
      "2024-04-03 16:16:24.849196: W tensorflow/c/c_api.cc:304] Operation '{name:'training_2/Adam/beta_2/Assign' id:650 op device:{requested: '', assigned: ''} def:{{{node training_2/Adam/beta_2/Assign}} = AssignVariableOp[_has_manual_control_dependencies=true, dtype=DT_FLOAT, validate_shape=false](training_2/Adam/beta_2, training_2/Adam/beta_2/Initializer/initial_value)}}' was changed by setting attribute after it was run by a session. This mutation will have no effect, and will trigger an error in the future. Either don't modify nodes after running them or create a new session.\n",
      "2024-04-03 16:16:24.862284: I tensorflow/core/grappler/optimizers/custom_graph_optimizer_registry.cc:114] Plugin optimizer for device_type GPU is enabled.\n",
      "2024-04-03 16:16:24.887281: I tensorflow/core/grappler/optimizers/custom_graph_optimizer_registry.cc:114] Plugin optimizer for device_type GPU is enabled.\n",
      "2024-04-03 16:16:24.900140: I tensorflow/core/grappler/optimizers/custom_graph_optimizer_registry.cc:114] Plugin optimizer for device_type GPU is enabled.\n"
     ]
    },
    {
     "name": "stdout",
     "output_type": "stream",
     "text": [
      "60000/60000 [==============================] - 9s 145us/sample - loss: 0.5470 - accuracy: 0.8094\n",
      "Epoch 2/10\n",
      "60000/60000 [==============================] - 8s 136us/sample - loss: 0.4722 - accuracy: 0.8359\n",
      "Epoch 3/10\n",
      "60000/60000 [==============================] - 8s 134us/sample - loss: 0.4688 - accuracy: 0.8386\n",
      "Epoch 4/10\n",
      "60000/60000 [==============================] - 8s 133us/sample - loss: 0.4673 - accuracy: 0.8404\n",
      "Epoch 5/10\n",
      "60000/60000 [==============================] - 8s 133us/sample - loss: 0.4684 - accuracy: 0.8408\n",
      "Epoch 6/10\n",
      "60000/60000 [==============================] - 8s 132us/sample - loss: 0.4773 - accuracy: 0.8400\n",
      "Epoch 7/10\n",
      "60000/60000 [==============================] - 8s 132us/sample - loss: 0.4806 - accuracy: 0.8386\n",
      "Epoch 8/10\n",
      "60000/60000 [==============================] - 8s 137us/sample - loss: 0.4855 - accuracy: 0.8402\n",
      "Epoch 9/10\n",
      "60000/60000 [==============================] - 9s 145us/sample - loss: 0.4900 - accuracy: 0.8393\n",
      "Epoch 10/10\n",
      "60000/60000 [==============================] - 9s 144us/sample - loss: 0.5060 - accuracy: 0.8353\n"
     ]
    },
    {
     "name": "stderr",
     "output_type": "stream",
     "text": [
      "2024-04-03 16:17:47.194077: W tensorflow/c/c_api.cc:304] Operation '{name:'loss_1/mul' id:588 op device:{requested: '', assigned: ''} def:{{{node loss_1/mul}} = Mul[T=DT_FLOAT, _has_manual_control_dependencies=true](loss_1/mul/x, loss_1/dense_7_loss/value)}}' was changed by setting attribute after it was run by a session. This mutation will have no effect, and will trigger an error in the future. Either don't modify nodes after running them or create a new session.\n",
      "2024-04-03 16:17:47.209148: I tensorflow/core/grappler/optimizers/custom_graph_optimizer_registry.cc:114] Plugin optimizer for device_type GPU is enabled.\n"
     ]
    },
    {
     "name": "stdout",
     "output_type": "stream",
     "text": [
      "\n",
      "테스트 정확도: 0.8211\n"
     ]
    }
   ],
   "source": [
    "# 필요한 라이브러리 임포트\n",
    "import tensorflow as tf\n",
    "from tensorflow.keras.layers import Dense, Flatten\n",
    "from tensorflow.keras.models import Sequential\n",
    "\n",
    "# 패션 MNIST 데이터셋 로드\n",
    "fashion_mnist = tf.keras.datasets.fashion_mnist\n",
    "(train_images, train_labels), (test_images, test_labels) = fashion_mnist.load_data()\n",
    "\n",
    "# 데이터 정규화\n",
    "train_images = train_images / 255.0\n",
    "test_images = test_images / 255.0\n",
    "\n",
    "# 모델 구성\n",
    "model = Sequential([\n",
    "    Flatten(input_shape=(28, 28)),  # 입력층\n",
    "    Dense(128, activation='relu'),  # 은닉층\n",
    "    Dense(10, activation='softmax')  # 출력층\n",
    "])\n",
    "\n",
    "# 모델 컴파일\n",
    "model.compile(optimizer='adam',\n",
    "              loss='sparse_categorical_crossentropy',\n",
    "              metrics=['accuracy'])\n",
    "\n",
    "# 모델 훈련\n",
    "model.fit(train_images, train_labels, epochs=10)\n",
    "\n",
    "# 테스트 세트에서 모델 평가\n",
    "test_loss, test_acc = model.evaluate(test_images,  test_labels, verbose=2)\n",
    "print('\\n테스트 정확도:', test_acc)\n"
   ]
  },
  {
   "cell_type": "code",
   "execution_count": 8,
   "metadata": {},
   "outputs": [
    {
     "name": "stdout",
     "output_type": "stream",
     "text": [
      "Train on 60000 samples\n",
      "Epoch 1/10\n",
      "   32/60000 [..............................] - ETA: 2:44 - loss: 2.5373 - accuracy: 0.1250"
     ]
    },
    {
     "name": "stderr",
     "output_type": "stream",
     "text": [
      "2024-04-03 16:19:37.884228: I tensorflow/core/grappler/optimizers/custom_graph_optimizer_registry.cc:114] Plugin optimizer for device_type GPU is enabled.\n",
      "2024-04-03 16:19:37.899288: W tensorflow/c/c_api.cc:304] Operation '{name:'training_4/Adam/dense_9/kernel/v/Assign' id:997 op device:{requested: '', assigned: ''} def:{{{node training_4/Adam/dense_9/kernel/v/Assign}} = AssignVariableOp[_has_manual_control_dependencies=true, dtype=DT_FLOAT, validate_shape=false](training_4/Adam/dense_9/kernel/v, training_4/Adam/dense_9/kernel/v/Initializer/zeros)}}' was changed by setting attribute after it was run by a session. This mutation will have no effect, and will trigger an error in the future. Either don't modify nodes after running them or create a new session.\n",
      "2024-04-03 16:19:37.915120: I tensorflow/core/grappler/optimizers/custom_graph_optimizer_registry.cc:114] Plugin optimizer for device_type GPU is enabled.\n",
      "2024-04-03 16:19:37.941603: I tensorflow/core/grappler/optimizers/custom_graph_optimizer_registry.cc:114] Plugin optimizer for device_type GPU is enabled.\n",
      "2024-04-03 16:19:37.955374: I tensorflow/core/grappler/optimizers/custom_graph_optimizer_registry.cc:114] Plugin optimizer for device_type GPU is enabled.\n"
     ]
    },
    {
     "name": "stdout",
     "output_type": "stream",
     "text": [
      "60000/60000 [==============================] - 9s 145us/sample - loss: 0.5439 - accuracy: 0.8115\n",
      "Epoch 2/10\n",
      "60000/60000 [==============================] - 8s 135us/sample - loss: 0.4723 - accuracy: 0.8375\n",
      "Epoch 3/10\n",
      "60000/60000 [==============================] - 10s 167us/sample - loss: 0.4633 - accuracy: 0.8414\n",
      "Epoch 4/10\n",
      "60000/60000 [==============================] - 9s 156us/sample - loss: 0.4677 - accuracy: 0.8407\n",
      "Epoch 5/10\n",
      "60000/60000 [==============================] - 8s 134us/sample - loss: 0.4700 - accuracy: 0.8404\n",
      "Epoch 6/10\n",
      "60000/60000 [==============================] - 8s 134us/sample - loss: 0.4714 - accuracy: 0.8405\n",
      "Epoch 7/10\n",
      "60000/60000 [==============================] - 8s 133us/sample - loss: 0.4710 - accuracy: 0.8415\n",
      "Epoch 8/10\n",
      "60000/60000 [==============================] - 8s 134us/sample - loss: 0.4808 - accuracy: 0.8399\n",
      "Epoch 9/10\n",
      "60000/60000 [==============================] - 8s 133us/sample - loss: 0.4869 - accuracy: 0.8393\n",
      "Epoch 10/10\n",
      "60000/60000 [==============================] - 8s 136us/sample - loss: 0.5014 - accuracy: 0.8376\n",
      "모델 훈련에 걸린 시간: 84.54초\n"
     ]
    },
    {
     "name": "stderr",
     "output_type": "stream",
     "text": [
      "2024-04-03 16:21:02.376801: W tensorflow/c/c_api.cc:304] Operation '{name:'loss_2/mul' id:882 op device:{requested: '', assigned: ''} def:{{{node loss_2/mul}} = Mul[T=DT_FLOAT, _has_manual_control_dependencies=true](loss_2/mul/x, loss_2/dense_9_loss/value)}}' was changed by setting attribute after it was run by a session. This mutation will have no effect, and will trigger an error in the future. Either don't modify nodes after running them or create a new session.\n",
      "2024-04-03 16:21:02.394244: I tensorflow/core/grappler/optimizers/custom_graph_optimizer_registry.cc:114] Plugin optimizer for device_type GPU is enabled.\n"
     ]
    },
    {
     "name": "stdout",
     "output_type": "stream",
     "text": [
      "모델 검증에 걸린 시간: 0.91초\n",
      "\n",
      "테스트 정확도: 0.8004\n"
     ]
    }
   ],
   "source": [
    "import time\n",
    "import tensorflow as tf\n",
    "from tensorflow.keras.layers import Dense, Flatten\n",
    "from tensorflow.keras.models import Sequential\n",
    "\n",
    "# 패션 MNIST 데이터셋 로드\n",
    "fashion_mnist = tf.keras.datasets.fashion_mnist\n",
    "(train_images, train_labels), (test_images, test_labels) = fashion_mnist.load_data()\n",
    "\n",
    "# 데이터 정규화\n",
    "train_images = train_images / 255.0\n",
    "test_images = test_images / 255.0\n",
    "\n",
    "# 모델 구성\n",
    "model = Sequential([\n",
    "    Flatten(input_shape=(28, 28)),\n",
    "    Dense(128, activation='relu'),\n",
    "    Dense(10, activation='softmax')\n",
    "])\n",
    "\n",
    "# 모델 컴파일\n",
    "model.compile(optimizer='adam',\n",
    "              loss='sparse_categorical_crossentropy',\n",
    "              metrics=['accuracy'])\n",
    "\n",
    "# 모델 훈련 시간 측정 시작\n",
    "start_time_train = time.time()\n",
    "\n",
    "# 모델 훈련\n",
    "model.fit(train_images, train_labels, epochs=10)\n",
    "\n",
    "# 모델 훈련 시간 측정 종료 및 출력\n",
    "end_time_train = time.time()\n",
    "print(f\"모델 훈련에 걸린 시간: {end_time_train - start_time_train:.2f}초\")\n",
    "\n",
    "# 모델 검증(테스트) 시간 측정 시작\n",
    "start_time_test = time.time()\n",
    "\n",
    "# 테스트 세트에서 모델 평가\n",
    "test_loss, test_acc = model.evaluate(test_images, test_labels, verbose=2)\n",
    "\n",
    "# 모델 검증(테스트) 시간 측정 종료 및 출력\n",
    "end_time_test = time.time()\n",
    "print(f\"모델 검증에 걸린 시간: {end_time_test - start_time_test:.2f}초\")\n",
    "\n",
    "print(f'\\n테스트 정확도: {test_acc:.4f}')\n"
   ]
  }
 ],
 "metadata": {
  "kernelspec": {
   "display_name": "Python 3",
   "language": "python",
   "name": "python3"
  },
  "language_info": {
   "codemirror_mode": {
    "name": "ipython",
    "version": 3
   },
   "file_extension": ".py",
   "mimetype": "text/x-python",
   "name": "python",
   "nbconvert_exporter": "python",
   "pygments_lexer": "ipython3",
   "version": "3.8.19"
  }
 },
 "nbformat": 4,
 "nbformat_minor": 2
}
